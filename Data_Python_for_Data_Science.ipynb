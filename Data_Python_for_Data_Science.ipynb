{
  "nbformat": 4,
  "nbformat_minor": 0,
  "metadata": {
    "colab": {
      "provenance": [],
      "authorship_tag": "ABX9TyP1/srsL/hZNGIQHepEUsUM",
      "include_colab_link": true
    },
    "kernelspec": {
      "name": "python3",
      "display_name": "Python 3"
    },
    "language_info": {
      "name": "python"
    }
  },
  "cells": [
    {
      "cell_type": "markdown",
      "metadata": {
        "id": "view-in-github",
        "colab_type": "text"
      },
      "source": [
        "<a href=\"https://colab.research.google.com/github/svganapathi/NM-Course/blob/main/Data_Python_for_Data_Science.ipynb\" target=\"_parent\"><img src=\"https://colab.research.google.com/assets/colab-badge.svg\" alt=\"Open In Colab\"/></a>"
      ]
    },
    {
      "cell_type": "markdown",
      "source": [
        "**Print a Simple Statement**"
      ],
      "metadata": {
        "id": "JD7HOkR4S2Ek"
      }
    },
    {
      "cell_type": "code",
      "source": [
        "print(\"Hello, Excited to start Data Science.\")"
      ],
      "metadata": {
        "colab": {
          "base_uri": "https://localhost:8080/"
        },
        "id": "Oky-WNzVSzru",
        "outputId": "da9ad4d1-4ed1-472a-b8b7-08843e6f640b"
      },
      "execution_count": 1,
      "outputs": [
        {
          "output_type": "stream",
          "name": "stdout",
          "text": [
            "Hello, Excited to start Data Science.\n"
          ]
        }
      ]
    },
    {
      "cell_type": "markdown",
      "source": [
        "## **Python Basics**"
      ],
      "metadata": {
        "id": "6sAYt85BTu_j"
      }
    },
    {
      "cell_type": "markdown",
      "source": [
        "**Variable Assignment (Storing Customer Data)**"
      ],
      "metadata": {
        "id": "qxGF6-mpS2BE"
      }
    },
    {
      "cell_type": "code",
      "source": [
        "customer_name = \"John Doe\"\n",
        "customer_age = 28\n",
        "customer_balance = 120.75\n",
        "print(\"Customer:\", customer_name)\n",
        "print(\"Age:\", customer_age)\n",
        "print(\"Balance:\", customer_balance)"
      ],
      "metadata": {
        "colab": {
          "base_uri": "https://localhost:8080/"
        },
        "id": "RIeKy1nsTLtD",
        "outputId": "5d6cd055-f36b-4672-e76a-d3fec6122dae"
      },
      "execution_count": 2,
      "outputs": [
        {
          "output_type": "stream",
          "name": "stdout",
          "text": [
            "Customer: John Doe\n",
            "Age: 28\n",
            "Balance: 120.75\n"
          ]
        }
      ]
    },
    {
      "cell_type": "markdown",
      "source": [
        "**Arithmetic Operations (Applying Discount)**"
      ],
      "metadata": {
        "id": "U--c1q8-TUm1"
      }
    },
    {
      "cell_type": "code",
      "source": [
        "product_price = 200\n",
        "discount = product_price * 0.10 # 10% discount\n",
        "final_price = product_price - discount\n",
        "print(\"Final Price after Discount:\", final_price)"
      ],
      "metadata": {
        "colab": {
          "base_uri": "https://localhost:8080/"
        },
        "id": "xzgoqSlJTWOM",
        "outputId": "ebdeaab7-48c3-44da-a2a7-226d24701ce5"
      },
      "execution_count": 3,
      "outputs": [
        {
          "output_type": "stream",
          "name": "stdout",
          "text": [
            "Final Price after Discount: 180.0\n"
          ]
        }
      ]
    },
    {
      "cell_type": "markdown",
      "source": [
        "## **NumPy Basics**"
      ],
      "metadata": {
        "id": "gp2Uo_KuThTo"
      }
    },
    {
      "cell_type": "markdown",
      "source": [
        "**Create NumPy Arrays (Sales Data)**"
      ],
      "metadata": {
        "id": "9dapmuQaTmBX"
      }
    },
    {
      "cell_type": "code",
      "source": [
        "import numpy as np\n",
        "sales = np.array([150, 200, 250, 300, 400, 350, 500]) # Sales for each day\n",
        "print(\"Sales Data:\", sales)"
      ],
      "metadata": {
        "colab": {
          "base_uri": "https://localhost:8080/"
        },
        "id": "I9L4cDJ1TsLU",
        "outputId": "4ded3056-b05b-418c-b784-e1f764edaf44"
      },
      "execution_count": 4,
      "outputs": [
        {
          "output_type": "stream",
          "name": "stdout",
          "text": [
            "Sales Data: [150 200 250 300 400 350 500]\n"
          ]
        }
      ]
    },
    {
      "cell_type": "markdown",
      "source": [
        "**Statistical Analysis (Sales Performance)**"
      ],
      "metadata": {
        "id": "g-QE5As4T6CA"
      }
    },
    {
      "cell_type": "code",
      "source": [
        "print(\"Average Sales:\", np.mean(sales))\n",
        "print(\"Highest Sale:\", np.max(sales))\n",
        "print(\"Lowest Sale:\", np.min(sales))"
      ],
      "metadata": {
        "colab": {
          "base_uri": "https://localhost:8080/"
        },
        "id": "RO6J0J2iT6d3",
        "outputId": "5271bd5b-b3ea-4e47-8e4b-19d91f9a709e"
      },
      "execution_count": 5,
      "outputs": [
        {
          "output_type": "stream",
          "name": "stdout",
          "text": [
            "Average Sales: 307.14285714285717\n",
            "Highest Sale: 500\n",
            "Lowest Sale: 150\n"
          ]
        }
      ]
    },
    {
      "cell_type": "markdown",
      "source": [
        "## **Pandas Basics**"
      ],
      "metadata": {
        "id": "QFaWrM81UFiz"
      }
    },
    {
      "cell_type": "markdown",
      "source": [
        "**Create a DataFrame (Customer Transactions)**"
      ],
      "metadata": {
        "id": "tXhcURxQUKzM"
      }
    },
    {
      "cell_type": "code",
      "source": [
        "import pandas as pd\n",
        "data = {\n",
        "\"Customer\": [\"Alice\", \"Bob\", \"Charlie\"],\n",
        "\"Age\": [25, 30, 35],\n",
        "\"Amount Spent\": [120, 200, 150]\n",
        "}\n",
        "df = pd.DataFrame(data)\n",
        "print(df)"
      ],
      "metadata": {
        "colab": {
          "base_uri": "https://localhost:8080/"
        },
        "id": "e1v8AY6mUPB-",
        "outputId": "eb335e5d-8359-44cd-d3f3-e1e0ce8a3124"
      },
      "execution_count": 6,
      "outputs": [
        {
          "output_type": "stream",
          "name": "stdout",
          "text": [
            "  Customer  Age  Amount Spent\n",
            "0    Alice   25           120\n",
            "1      Bob   30           200\n",
            "2  Charlie   35           150\n"
          ]
        }
      ]
    },
    {
      "cell_type": "markdown",
      "source": [
        "**Load and View a CSV File**"
      ],
      "metadata": {
        "id": "1aD97ALNUVXM"
      }
    },
    {
      "cell_type": "code",
      "source": [
        "from google.colab import files\n",
        "uploaded = files.upload() # Upload your CSV file\n",
        "df = pd.read_csv(\"customer_data.csv\") # Replace with your file name\n",
        "df.head()"
      ],
      "metadata": {
        "id": "Kl85FznwUVns",
        "colab": {
          "base_uri": "https://localhost:8080/",
          "height": 38
        },
        "outputId": "42ec8023-ad23-4060-df56-5a3d62a4f9f3"
      },
      "execution_count": null,
      "outputs": [
        {
          "output_type": "display_data",
          "data": {
            "text/plain": [
              "<IPython.core.display.HTML object>"
            ],
            "text/html": [
              "\n",
              "     <input type=\"file\" id=\"files-2439eaf9-c9d5-412a-9c6a-7dc76363948d\" name=\"files[]\" multiple disabled\n",
              "        style=\"border:none\" />\n",
              "     <output id=\"result-2439eaf9-c9d5-412a-9c6a-7dc76363948d\">\n",
              "      Upload widget is only available when the cell has been executed in the\n",
              "      current browser session. Please rerun this cell to enable.\n",
              "      </output>\n",
              "      <script>// Copyright 2017 Google LLC\n",
              "//\n",
              "// Licensed under the Apache License, Version 2.0 (the \"License\");\n",
              "// you may not use this file except in compliance with the License.\n",
              "// You may obtain a copy of the License at\n",
              "//\n",
              "//      http://www.apache.org/licenses/LICENSE-2.0\n",
              "//\n",
              "// Unless required by applicable law or agreed to in writing, software\n",
              "// distributed under the License is distributed on an \"AS IS\" BASIS,\n",
              "// WITHOUT WARRANTIES OR CONDITIONS OF ANY KIND, either express or implied.\n",
              "// See the License for the specific language governing permissions and\n",
              "// limitations under the License.\n",
              "\n",
              "/**\n",
              " * @fileoverview Helpers for google.colab Python module.\n",
              " */\n",
              "(function(scope) {\n",
              "function span(text, styleAttributes = {}) {\n",
              "  const element = document.createElement('span');\n",
              "  element.textContent = text;\n",
              "  for (const key of Object.keys(styleAttributes)) {\n",
              "    element.style[key] = styleAttributes[key];\n",
              "  }\n",
              "  return element;\n",
              "}\n",
              "\n",
              "// Max number of bytes which will be uploaded at a time.\n",
              "const MAX_PAYLOAD_SIZE = 100 * 1024;\n",
              "\n",
              "function _uploadFiles(inputId, outputId) {\n",
              "  const steps = uploadFilesStep(inputId, outputId);\n",
              "  const outputElement = document.getElementById(outputId);\n",
              "  // Cache steps on the outputElement to make it available for the next call\n",
              "  // to uploadFilesContinue from Python.\n",
              "  outputElement.steps = steps;\n",
              "\n",
              "  return _uploadFilesContinue(outputId);\n",
              "}\n",
              "\n",
              "// This is roughly an async generator (not supported in the browser yet),\n",
              "// where there are multiple asynchronous steps and the Python side is going\n",
              "// to poll for completion of each step.\n",
              "// This uses a Promise to block the python side on completion of each step,\n",
              "// then passes the result of the previous step as the input to the next step.\n",
              "function _uploadFilesContinue(outputId) {\n",
              "  const outputElement = document.getElementById(outputId);\n",
              "  const steps = outputElement.steps;\n",
              "\n",
              "  const next = steps.next(outputElement.lastPromiseValue);\n",
              "  return Promise.resolve(next.value.promise).then((value) => {\n",
              "    // Cache the last promise value to make it available to the next\n",
              "    // step of the generator.\n",
              "    outputElement.lastPromiseValue = value;\n",
              "    return next.value.response;\n",
              "  });\n",
              "}\n",
              "\n",
              "/**\n",
              " * Generator function which is called between each async step of the upload\n",
              " * process.\n",
              " * @param {string} inputId Element ID of the input file picker element.\n",
              " * @param {string} outputId Element ID of the output display.\n",
              " * @return {!Iterable<!Object>} Iterable of next steps.\n",
              " */\n",
              "function* uploadFilesStep(inputId, outputId) {\n",
              "  const inputElement = document.getElementById(inputId);\n",
              "  inputElement.disabled = false;\n",
              "\n",
              "  const outputElement = document.getElementById(outputId);\n",
              "  outputElement.innerHTML = '';\n",
              "\n",
              "  const pickedPromise = new Promise((resolve) => {\n",
              "    inputElement.addEventListener('change', (e) => {\n",
              "      resolve(e.target.files);\n",
              "    });\n",
              "  });\n",
              "\n",
              "  const cancel = document.createElement('button');\n",
              "  inputElement.parentElement.appendChild(cancel);\n",
              "  cancel.textContent = 'Cancel upload';\n",
              "  const cancelPromise = new Promise((resolve) => {\n",
              "    cancel.onclick = () => {\n",
              "      resolve(null);\n",
              "    };\n",
              "  });\n",
              "\n",
              "  // Wait for the user to pick the files.\n",
              "  const files = yield {\n",
              "    promise: Promise.race([pickedPromise, cancelPromise]),\n",
              "    response: {\n",
              "      action: 'starting',\n",
              "    }\n",
              "  };\n",
              "\n",
              "  cancel.remove();\n",
              "\n",
              "  // Disable the input element since further picks are not allowed.\n",
              "  inputElement.disabled = true;\n",
              "\n",
              "  if (!files) {\n",
              "    return {\n",
              "      response: {\n",
              "        action: 'complete',\n",
              "      }\n",
              "    };\n",
              "  }\n",
              "\n",
              "  for (const file of files) {\n",
              "    const li = document.createElement('li');\n",
              "    li.append(span(file.name, {fontWeight: 'bold'}));\n",
              "    li.append(span(\n",
              "        `(${file.type || 'n/a'}) - ${file.size} bytes, ` +\n",
              "        `last modified: ${\n",
              "            file.lastModifiedDate ? file.lastModifiedDate.toLocaleDateString() :\n",
              "                                    'n/a'} - `));\n",
              "    const percent = span('0% done');\n",
              "    li.appendChild(percent);\n",
              "\n",
              "    outputElement.appendChild(li);\n",
              "\n",
              "    const fileDataPromise = new Promise((resolve) => {\n",
              "      const reader = new FileReader();\n",
              "      reader.onload = (e) => {\n",
              "        resolve(e.target.result);\n",
              "      };\n",
              "      reader.readAsArrayBuffer(file);\n",
              "    });\n",
              "    // Wait for the data to be ready.\n",
              "    let fileData = yield {\n",
              "      promise: fileDataPromise,\n",
              "      response: {\n",
              "        action: 'continue',\n",
              "      }\n",
              "    };\n",
              "\n",
              "    // Use a chunked sending to avoid message size limits. See b/62115660.\n",
              "    let position = 0;\n",
              "    do {\n",
              "      const length = Math.min(fileData.byteLength - position, MAX_PAYLOAD_SIZE);\n",
              "      const chunk = new Uint8Array(fileData, position, length);\n",
              "      position += length;\n",
              "\n",
              "      const base64 = btoa(String.fromCharCode.apply(null, chunk));\n",
              "      yield {\n",
              "        response: {\n",
              "          action: 'append',\n",
              "          file: file.name,\n",
              "          data: base64,\n",
              "        },\n",
              "      };\n",
              "\n",
              "      let percentDone = fileData.byteLength === 0 ?\n",
              "          100 :\n",
              "          Math.round((position / fileData.byteLength) * 100);\n",
              "      percent.textContent = `${percentDone}% done`;\n",
              "\n",
              "    } while (position < fileData.byteLength);\n",
              "  }\n",
              "\n",
              "  // All done.\n",
              "  yield {\n",
              "    response: {\n",
              "      action: 'complete',\n",
              "    }\n",
              "  };\n",
              "}\n",
              "\n",
              "scope.google = scope.google || {};\n",
              "scope.google.colab = scope.google.colab || {};\n",
              "scope.google.colab._files = {\n",
              "  _uploadFiles,\n",
              "  _uploadFilesContinue,\n",
              "};\n",
              "})(self);\n",
              "</script> "
            ]
          },
          "metadata": {}
        }
      ]
    },
    {
      "cell_type": "markdown",
      "source": [
        "## **Data Manipulation with Pandas**"
      ],
      "metadata": {
        "id": "3Pexr2-qU2hk"
      }
    },
    {
      "cell_type": "markdown",
      "source": [
        "**Filter High-Spending Customers**"
      ],
      "metadata": {
        "id": "52ZbX7m4VCkq"
      }
    },
    {
      "cell_type": "code",
      "source": [
        "high_spenders = df[df[\"Amount Spent\"] > 150]\n",
        "print(high_spenders)"
      ],
      "metadata": {
        "id": "jJTvGTUjU65t"
      },
      "execution_count": null,
      "outputs": []
    },
    {
      "cell_type": "markdown",
      "source": [
        "**Sorting Customers by Spending**"
      ],
      "metadata": {
        "id": "h8Ppq7y2VU1D"
      }
    },
    {
      "cell_type": "code",
      "source": [
        "df_sorted = df.sort_values(by=\"Amount Spent\", ascending=False)\n",
        "print(df_sorted)"
      ],
      "metadata": {
        "id": "CaPm8xo9VWtg"
      },
      "execution_count": null,
      "outputs": []
    },
    {
      "cell_type": "markdown",
      "source": [
        "**Add a New Column (Loyalty Points Calculation)**"
      ],
      "metadata": {
        "id": "Mk0StMUXVgXg"
      }
    },
    {
      "cell_type": "code",
      "source": [
        "df[\"Loyalty Points\"] = df[\"Amount Spent\"] // 10\n",
        "print(df)"
      ],
      "metadata": {
        "id": "FuQNyxh0Vk9x"
      },
      "execution_count": null,
      "outputs": []
    },
    {
      "cell_type": "markdown",
      "source": [
        "**Saving Processed Data**"
      ],
      "metadata": {
        "id": "RPmOBQw7Voxb"
      }
    },
    {
      "cell_type": "code",
      "source": [
        "df.to_csv(\"cleaned_customer_data.csv\", index=False)\n",
        "files.download(\"cleaned_customer_data.csv\") # Download the file"
      ],
      "metadata": {
        "id": "8dQ2lGznVt0O"
      },
      "execution_count": null,
      "outputs": []
    },
    {
      "cell_type": "markdown",
      "source": [
        "---\n",
        "---"
      ],
      "metadata": {
        "id": "7yTBAi4mV4Rk"
      }
    },
    {
      "cell_type": "markdown",
      "source": [
        "## **Handling Missing Values & Duplicates**"
      ],
      "metadata": {
        "id": "vCTXvyIOZM9R"
      }
    },
    {
      "cell_type": "code",
      "source": [
        "# Check for missing values\n",
        "print(df.isnull().sum())"
      ],
      "metadata": {
        "id": "5HdwGhe8ZEri"
      },
      "execution_count": null,
      "outputs": []
    },
    {
      "cell_type": "markdown",
      "source": [
        "**Remove Missing Values**"
      ],
      "metadata": {
        "id": "O71iXAmbbu4e"
      }
    },
    {
      "cell_type": "code",
      "source": [
        "df_cleaned = df.dropna() # Removes rows with missing values\n",
        "print(df_cleaned)"
      ],
      "metadata": {
        "id": "sD2sIwOKb2R5"
      },
      "execution_count": null,
      "outputs": []
    },
    {
      "cell_type": "markdown",
      "source": [
        "**Fill Missing Values (Imputation)**"
      ],
      "metadata": {
        "id": "nH0fCo7YbzJ9"
      }
    },
    {
      "cell_type": "markdown",
      "source": [
        "`Fill with Mean/Median (For Numerical Data)`"
      ],
      "metadata": {
        "id": "ufN4AWjVcCEB"
      }
    },
    {
      "cell_type": "code",
      "source": [
        "df[\"Age\"].fillna(df[\"Age\"].mean(), inplace=True)\n",
        "df[\"Marks\"].fillna(df[\"Marks\"].median(), inplace=True)\n",
        "df[\"Attendance\"].fillna(df[\"Attendance\"].mean(), inplace=True)"
      ],
      "metadata": {
        "id": "6-tAwJo7cIn6"
      },
      "execution_count": null,
      "outputs": []
    },
    {
      "cell_type": "markdown",
      "source": [
        "`Fill with Mode (For Categorical Data)`"
      ],
      "metadata": {
        "id": "LeTkHlCwcQGu"
      }
    },
    {
      "cell_type": "code",
      "source": [
        "df[\"Passed\"].fillna(df[\"Passed\"].mode()[0], inplace=True)"
      ],
      "metadata": {
        "id": "KAdbcnmrcUZs"
      },
      "execution_count": null,
      "outputs": []
    },
    {
      "cell_type": "markdown",
      "source": [
        "`Forward Fill & Backward Fill`"
      ],
      "metadata": {
        "id": "5UBwjAsZcXcI"
      }
    },
    {
      "cell_type": "code",
      "source": [
        "df.ffill(inplace=True) # Forward fill\n",
        "df.bfill(inplace=True) # Backward fill"
      ],
      "metadata": {
        "id": "Vdd6TIe_cawO"
      },
      "execution_count": null,
      "outputs": []
    },
    {
      "cell_type": "markdown",
      "source": [
        "**Remove Duplicates**"
      ],
      "metadata": {
        "id": "xLUnVuJKceq-"
      }
    },
    {
      "cell_type": "code",
      "source": [
        "df.drop_duplicates(inplace=True)"
      ],
      "metadata": {
        "id": "B2sNvAjUcjrh"
      },
      "execution_count": null,
      "outputs": []
    },
    {
      "cell_type": "markdown",
      "source": [
        "## **Data Transformation: Scaling & Encoding**"
      ],
      "metadata": {
        "id": "fgvxmsr3cm25"
      }
    },
    {
      "cell_type": "markdown",
      "source": [
        "`Feature Scaling`"
      ],
      "metadata": {
        "id": "P-LJBvHrdLsa"
      }
    },
    {
      "cell_type": "markdown",
      "source": [
        "**Standardization (Z-score Normalization)**"
      ],
      "metadata": {
        "id": "wyH8cGNUcuhO"
      }
    },
    {
      "cell_type": "code",
      "source": [
        "from sklearn.preprocessing import StandardScaler\n",
        "scaler = StandardScaler()\n",
        "df_scaled = df.copy()\n",
        "df_scaled[[\"Marks\", \"Attendance\"]] = scaler.fit_transform(df[[\"Marks\", \"Attendance\"]])\n",
        "print(df_scaled)"
      ],
      "metadata": {
        "id": "lUxtOQLRcz9a"
      },
      "execution_count": null,
      "outputs": []
    },
    {
      "cell_type": "markdown",
      "source": [
        "**Min-Max Scaling**"
      ],
      "metadata": {
        "id": "n5i6Z38Tc3ms"
      }
    },
    {
      "cell_type": "code",
      "source": [
        "from sklearn.preprocessing import MinMaxScaler\n",
        "scaler = MinMaxScaler()\n",
        "df_scaled[[\"Marks\", \"Attendance\"]] = scaler.fit_transform(df[[\"Marks\", \"Attendance\"]])\n",
        "print(df_scaled)"
      ],
      "metadata": {
        "id": "pjd_grK3c6-I"
      },
      "execution_count": null,
      "outputs": []
    },
    {
      "cell_type": "markdown",
      "source": [
        "`Encoding Categorical Variables`"
      ],
      "metadata": {
        "id": "FfukpI69c_nY"
      }
    },
    {
      "cell_type": "markdown",
      "source": [
        "**One-Hot Encoding**"
      ],
      "metadata": {
        "id": "KCEiqtlEdWGM"
      }
    },
    {
      "cell_type": "code",
      "source": [
        "df_encoded = pd.get_dummies(df, columns=[\"Passed\"], drop_first=True)\n",
        "print(df_encoded)"
      ],
      "metadata": {
        "id": "Rn2uzt-ydZhx"
      },
      "execution_count": null,
      "outputs": []
    },
    {
      "cell_type": "markdown",
      "source": [
        "Label Encoding"
      ],
      "metadata": {
        "id": "BTTBtTfvdcyG"
      }
    },
    {
      "cell_type": "code",
      "source": [
        "from sklearn.preprocessing import LabelEncoder\n",
        "encoder = LabelEncoder()\n",
        "df[\"Passed\"] = encoder.fit_transform(df[\"Passed\"])\n",
        "print(df)"
      ],
      "metadata": {
        "id": "RyUL1N3vdlmQ"
      },
      "execution_count": null,
      "outputs": []
    },
    {
      "cell_type": "markdown",
      "source": [
        "## **Feature Engineering**"
      ],
      "metadata": {
        "id": "ES7DkRKldrLG"
      }
    },
    {
      "cell_type": "markdown",
      "source": [
        "**Deriving a new feature: Performance Category**"
      ],
      "metadata": {
        "id": "IJ6tDzObdvUT"
      }
    },
    {
      "cell_type": "code",
      "source": [
        "def performance_category(marks):\n",
        "if marks >= 85:\n",
        "return \"High\"\n",
        "elif marks >= 70:\n",
        "return \"Medium\"\n",
        "else:\n",
        "return \"Low\"\n",
        "df[\"Performance\"] = df[\"Marks\"].apply(performance_category)\n",
        "print(df)"
      ],
      "metadata": {
        "id": "O6YUo5MJd0XZ"
      },
      "execution_count": null,
      "outputs": []
    },
    {
      "cell_type": "markdown",
      "source": [
        "**Binning (Converting Continuous to Categorical Data)**"
      ],
      "metadata": {
        "id": "778kFWZzd5Ct"
      }
    },
    {
      "cell_type": "code",
      "source": [
        "df[\"Age_Group\"] = pd.cut(df[\"Age\"], bins=[18, 21, 24], labels=[\"Young\", \"Adult\"])\n",
        "print(df)"
      ],
      "metadata": {
        "id": "bwJPRXJyd94x"
      },
      "execution_count": null,
      "outputs": []
    },
    {
      "cell_type": "markdown",
      "source": [
        "---\n",
        "---"
      ],
      "metadata": {
        "id": "uXD_bUP-eQlR"
      }
    },
    {
      "cell_type": "markdown",
      "source": [
        "# **Data Visualization**"
      ],
      "metadata": {
        "id": "wxsyQOnwgUku"
      }
    },
    {
      "cell_type": "markdown",
      "source": [
        "### **Matplotlib**"
      ],
      "metadata": {
        "id": "9Dodq59Ngm3e"
      }
    },
    {
      "cell_type": "markdown",
      "source": [
        "**Basic Matplotlib Plot**"
      ],
      "metadata": {
        "id": "KaBa9NFeKCob"
      }
    },
    {
      "cell_type": "markdown",
      "source": [
        "`Line Plot`"
      ],
      "metadata": {
        "id": "70Nd9anoKExh"
      }
    },
    {
      "cell_type": "code",
      "execution_count": null,
      "metadata": {
        "id": "8X3tFNBWJ2C6"
      },
      "outputs": [],
      "source": [
        "import matplotlib.pyplot as plt\n",
        "import numpy as np\n",
        "x = np.linspace(0, 10, 100)\n",
        "y = np.sin(x)\n",
        "plt.plot(x, y, label=\"Sine Wave\")\n",
        "plt.xlabel(\"X Axis\")\n",
        "plt.ylabel(\"Y Axis\")\n",
        "plt.title(\"Simple Line Plot\")\n",
        "plt.legend()\n",
        "plt.show()"
      ]
    },
    {
      "cell_type": "markdown",
      "source": [
        "`Bar Chart`"
      ],
      "metadata": {
        "id": "y_aHgHhiKkLz"
      }
    },
    {
      "cell_type": "code",
      "source": [
        "categories = ['A', 'B', 'C', 'D']\n",
        "values = [10, 25, 15, 30]\n",
        "plt.figure(figsize=(6, 4))\n",
        "plt.bar(categories, values, color='purple')\n",
        "plt.xlabel(\"Categories\")\n",
        "plt.ylabel(\"Values\")\n",
        "plt.title(\"Bar Chart Example\")\n",
        "plt.show()"
      ],
      "metadata": {
        "id": "YUu0WmacKBv5"
      },
      "execution_count": null,
      "outputs": []
    },
    {
      "cell_type": "markdown",
      "source": [
        "`Histogram (Distribution of Data)`"
      ],
      "metadata": {
        "id": "c02UYPxYKuGk"
      }
    },
    {
      "cell_type": "code",
      "source": [
        "data = np.random.randn(1000)\n",
        "plt.figure(figsize=(7, 5))\n",
        "plt.hist(data, bins=30, color='green', edgecolor='black', alpha=0.7)\n",
        "plt.xlabel(\"Value\")\n",
        "plt.ylabel(\"Frequency\")\n",
        "plt.title(\"Histogram Example\")\n",
        "plt.show()"
      ],
      "metadata": {
        "id": "QlXV1ny0K1op"
      },
      "execution_count": null,
      "outputs": []
    },
    {
      "cell_type": "markdown",
      "source": [
        "**Seaborn - Statistical Data Visualization**"
      ],
      "metadata": {
        "id": "FDtyvHCkLFHB"
      }
    },
    {
      "cell_type": "markdown",
      "source": [
        "`Histogram & KDE Plot`"
      ],
      "metadata": {
        "id": "KexF9BRxK77z"
      }
    },
    {
      "cell_type": "code",
      "source": [
        "import seaborn as sns\n",
        "import pandas as pd\n",
        "\n",
        "# Creating sample data\n",
        "data = np.random.randn(1000)\n",
        "\n",
        "df = pd.DataFrame(data, columns=['Values'])\n",
        "\n",
        "# Plot\n",
        "sns.histplot(df['Values'], bins=30, kde=True, color='blue')\n",
        "plt.title(\"Histogram with KDE\")\n",
        "plt.show()"
      ],
      "metadata": {
        "id": "Mc-b3XG2LVTM"
      },
      "execution_count": null,
      "outputs": []
    },
    {
      "cell_type": "markdown",
      "source": [
        "`Box Plot (Detecting Outliers)`"
      ],
      "metadata": {
        "id": "TWxqMmtkL2om"
      }
    },
    {
      "cell_type": "code",
      "source": [
        "tips = sns.load_dataset('tips')\n",
        "plt.figure(figsize=(6, 4))\n",
        "sns.boxplot(x=tips['total_bill'])\n",
        "plt.title(\"Box Plot of Total Bill\")\n",
        "plt.show()"
      ],
      "metadata": {
        "id": "N335nM3YL71J"
      },
      "execution_count": null,
      "outputs": []
    },
    {
      "cell_type": "markdown",
      "source": [
        "`Pair Plot (Exploring Relationships)`"
      ],
      "metadata": {
        "id": "ZzOu8tWpMD3q"
      }
    },
    {
      "cell_type": "code",
      "source": [
        "sns.pairplot(tips, hue='sex')\n",
        "plt.show()"
      ],
      "metadata": {
        "id": "PALPUeTdMKvV"
      },
      "execution_count": null,
      "outputs": []
    },
    {
      "cell_type": "markdown",
      "source": [
        "`Heatmap (Correlation Analysis)`"
      ],
      "metadata": {
        "id": "5JCNRUSgMUwZ"
      }
    },
    {
      "cell_type": "code",
      "source": [
        "# Convert 'sex' and 'smoker' columns to numerical representations using one-hot encoding\n",
        "tips = pd.get_dummies(tips, columns=['sex', 'smoker', 'day', 'time'])\n",
        "\n",
        "# Now calculate the correlation matrix\n",
        "corr_matrix = tips.corr()\n",
        "\n",
        "plt.figure(figsize=(12, 10))  # Adjust figure size for better readability\n",
        "sns.heatmap(corr_matrix, annot=True, cmap='coolwarm', fmt=\".2f\")\n",
        "plt.title(\"Correlation Heatmap\")\n",
        "plt.show()"
      ],
      "metadata": {
        "id": "IhgobA_WMYLA"
      },
      "execution_count": null,
      "outputs": []
    },
    {
      "cell_type": "markdown",
      "source": [
        "**Pyplot**"
      ],
      "metadata": {
        "id": "WtCpW2jSRdlW"
      }
    },
    {
      "cell_type": "markdown",
      "source": [
        "`Interactive Line Plot`"
      ],
      "metadata": {
        "id": "lQlt2V8DQs2u"
      }
    },
    {
      "cell_type": "code",
      "source": [
        "import plotly.express as px\n",
        "df = pd.DataFrame({\n",
        "\"x\": np.linspace(0, 10, 100),\n",
        "\"y\": np.sin(np.linspace(0, 10, 100))\n",
        "})\n",
        "fig = px.line(df, x='x', y='y', title=\"Interactive Sine Wave\")\n",
        "fig.show()"
      ],
      "metadata": {
        "id": "FYGMT7BNRjV9"
      },
      "execution_count": null,
      "outputs": []
    },
    {
      "cell_type": "markdown",
      "source": [
        "`Interactive Scatter Plot`"
      ],
      "metadata": {
        "id": "l-59AvOzRA0C"
      }
    },
    {
      "cell_type": "code",
      "source": [
        "fig = px.scatter(tips, x='total_bill', y='tip', color='sex', size='size', title=\"Total\n",
        "Bill vs Tip\")\n",
        "fig.show()"
      ],
      "metadata": {
        "id": "luF2T2Q0RF9k"
      },
      "execution_count": null,
      "outputs": []
    },
    {
      "cell_type": "markdown",
      "source": [
        "`Interactive 3D Scatter Plot`"
      ],
      "metadata": {
        "id": "L7py10_mRJ5Q"
      }
    },
    {
      "cell_type": "code",
      "source": [
        "import plotly.graph_objects as go\n",
        "fig = go.Figure(data=[go.Scatter3d(\n",
        "x=tips['total_bill'],\n",
        "y=tips['tip'],\n",
        "z=tips['size'],\n",
        "mode='markers',\n",
        "marker=dict(size=5, color=tips['total_bill'], colorscale='Viridis'))])\n",
        "fig.update_layout(title=\"3D Scatter Plot of Total Bill, Tip & Size\")\n",
        "fig.show()"
      ],
      "metadata": {
        "id": "i6UGeyvrRPhy"
      },
      "execution_count": null,
      "outputs": []
    }
  ]
}