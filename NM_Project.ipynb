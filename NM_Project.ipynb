{
  "nbformat": 4,
  "nbformat_minor": 0,
  "metadata": {
    "colab": {
      "provenance": [],
      "authorship_tag": "ABX9TyO5Da8JkTLuGWH1q5te5qXe",
      "include_colab_link": true
    },
    "kernelspec": {
      "name": "python3",
      "display_name": "Python 3"
    },
    "language_info": {
      "name": "python"
    }
  },
  "cells": [
    {
      "cell_type": "markdown",
      "metadata": {
        "id": "view-in-github",
        "colab_type": "text"
      },
      "source": [
        "<a href=\"https://colab.research.google.com/github/svganapathi/NM-Course/blob/main/NM_Project.ipynb\" target=\"_parent\"><img src=\"https://colab.research.google.com/assets/colab-badge.svg\" alt=\"Open In Colab\"/></a>"
      ]
    },
    {
      "cell_type": "code",
      "execution_count": null,
      "metadata": {
        "colab": {
          "base_uri": "https://localhost:8080/"
        },
        "id": "KHg0olMhfTJf",
        "outputId": "cb9e2834-4557-40a6-d7a3-c16cefc29a23"
      },
      "outputs": [
        {
          "output_type": "stream",
          "name": "stdout",
          "text": [
            "Chatbot: Hello! Type 'quit' to exit.\n",
            "You: hi\n",
            "Chatbot: Hello!\n",
            "You: Can you help me?\n",
            "Chatbot: How can I assist you today?\n"
          ]
        }
      ],
      "source": [
        "import random\n",
        "import json\n",
        "import numpy as np\n",
        "from sklearn.feature_extraction.text import TfidfVectorizer\n",
        "from sklearn.linear_model import LogisticRegression\n",
        "from sklearn.pipeline import make_pipeline\n",
        "\n",
        "# Sample intents data (can be extended or loaded from a JSON file)\n",
        "intents = {\n",
        "    \"intents\": [\n",
        "        {\"tag\": \"greeting\", \"patterns\": [\"Hi\", \"Hello\", \"Hey\", \"Good morning\"], \"responses\": [\"Hello!\", \"Hi there!\", \"Greetings!\"]},\n",
        "        {\"tag\": \"goodbye\", \"patterns\": [\"Bye\", \"See you\", \"Goodbye\"], \"responses\": [\"Goodbye!\", \"See you later!\", \"Take care!\"]},\n",
        "        {\"tag\": \"thanks\", \"patterns\": [\"Thanks\", \"Thank you\", \"Much appreciated\"], \"responses\": [\"You're welcome!\", \"Glad to help!\", \"Anytime!\"]},\n",
        "        {\"tag\": \"support\", \"patterns\": [\"I need help\", \"Can you help me?\", \"Support please\"], \"responses\": [\"How can I assist you today?\", \"I'm here to help!\", \"What can I do for you?\"]}\n",
        "    ]\n",
        "}\n",
        "\n",
        "# Data prep\n",
        "X_train, y_train = [], []\n",
        "for intent in intents[\"intents\"]:\n",
        "    for pattern in intent[\"patterns\"]:\n",
        "        X_train.append(pattern)\n",
        "        y_train.append(intent[\"tag\"])\n",
        "\n",
        "# Model: TF-IDF + Logistic Regression\n",
        "model = make_pipeline(TfidfVectorizer(), LogisticRegression())\n",
        "model.fit(X_train, y_train)\n",
        "\n",
        "# Chat function\n",
        "def chatbot_response(user_input):\n",
        "    intent = model.predict([user_input])[0]\n",
        "    for i in intents[\"intents\"]:\n",
        "        if i[\"tag\"] == intent:\n",
        "            return random.choice(i[\"responses\"])\n",
        "\n",
        "# Run the chatbot\n",
        "if __name__ == \"__main__\":\n",
        "    print(\"Chatbot: Hello! Type 'quit' to exit.\")\n",
        "    while True:\n",
        "        user_input = input(\"You: \")\n",
        "        if user_input.lower() == 'quit':\n",
        "            print(\"Chatbot: Goodbye!\")\n",
        "            break\n",
        "        response = chatbot_response(user_input)\n",
        "        print(\"Chatbot:\", response)\n"
      ]
    }
  ]
}